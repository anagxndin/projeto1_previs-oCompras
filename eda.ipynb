{
 "cells": [
  {
   "cell_type": "code",
   "execution_count": null,
   "id": "d354c9f7",
   "metadata": {},
   "outputs": [],
   "source": [
    "import pandas as pd\n",
    "import seaborn as sns\n",
    "import matplotlib.pyplot as plt\n",
    "\n",
    "df = pd.read_csv('dados/Customer_Attributes_and_Purchase_Propensity.csv')"
   ]
  },
  {
   "cell_type": "code",
   "execution_count": 4,
   "id": "7c672ea1",
   "metadata": {},
   "outputs": [
    {
     "name": "stdout",
     "output_type": "stream",
     "text": [
      "(500, 6)\n",
      "Index(['Age', 'Income', 'City', 'Marital_Status', 'Score', 'Purchased'], dtype='object')\n"
     ]
    }
   ],
   "source": [
    "print(df.shape)  # Mostra o número de linhas e colunas\n",
    "print(df.columns)  # Mostra os nomes das colunas"
   ]
  },
  {
   "cell_type": "markdown",
   "id": "aef6e020",
   "metadata": {},
   "source": [
    "#Quantos clientes existem no total?"
   ]
  },
  {
   "cell_type": "code",
   "execution_count": 5,
   "id": "a9df78c1",
   "metadata": {},
   "outputs": [
    {
     "name": "stdout",
     "output_type": "stream",
     "text": [
      "Total de clientes: 500\n"
     ]
    }
   ],
   "source": [
    "print(\"Total de clientes:\", len(df))"
   ]
  },
  {
   "cell_type": "markdown",
   "id": "d330cacb",
   "metadata": {},
   "source": [
    "Qual a média, mediana, mínimo e máximo da idade e da renda?\n"
   ]
  },
  {
   "cell_type": "code",
   "execution_count": 10,
   "id": "cf5a63e4",
   "metadata": {},
   "outputs": [
    {
     "name": "stdout",
     "output_type": "stream",
     "text": [
      "Idade:\n",
      "  Média: 41.28\n",
      "  Mediana: 42.0\n",
      "  Mínimo: 18\n",
      "  Máximo: 64\n",
      "\n",
      "Renda:\n",
      "  Média: 67210.17\n",
      "  Mediana: 64906.5\n",
      "  Mínimo: 20055\n",
      "  Máximo: 119835\n"
     ]
    }
   ],
   "source": [
    "#print(\"Resumo da idade:\")\n",
    "#print(df['Age'].describe())  # count, mean, std, min, 25%, 50%, 75%, max\n",
    "\n",
    "# Idade\n",
    "media_idade = df['Age'].mean()\n",
    "mediana_idade = df['Age'].median()\n",
    "min_idade = df['Age'].min()\n",
    "max_idade = df['Age'].max()\n",
    "\n",
    "print(f\"Idade:\")\n",
    "print(f\"  Média: {media_idade:.2f}\")\n",
    "print(f\"  Mediana: {mediana_idade}\")\n",
    "print(f\"  Mínimo: {min_idade}\")\n",
    "print(f\"  Máximo: {max_idade}\")\n",
    "\n",
    "# Renda\n",
    "media_renda = df['Income'].mean()\n",
    "mediana_renda = df['Income'].median()\n",
    "min_renda = df['Income'].min()\n",
    "max_renda = df['Income'].max()\n",
    "\n",
    "print(f\"\\nRenda:\")\n",
    "print(f\"  Média: {media_renda:.2f}\")\n",
    "print(f\"  Mediana: {mediana_renda}\")\n",
    "print(f\"  Mínimo: {min_renda}\")\n",
    "print(f\"  Máximo: {max_renda}\")\n",
    "\n"
   ]
  }
 ],
 "metadata": {
  "kernelspec": {
   "display_name": "base",
   "language": "python",
   "name": "python3"
  },
  "language_info": {
   "codemirror_mode": {
    "name": "ipython",
    "version": 3
   },
   "file_extension": ".py",
   "mimetype": "text/x-python",
   "name": "python",
   "nbconvert_exporter": "python",
   "pygments_lexer": "ipython3",
   "version": "3.9.13"
  }
 },
 "nbformat": 4,
 "nbformat_minor": 5
}
